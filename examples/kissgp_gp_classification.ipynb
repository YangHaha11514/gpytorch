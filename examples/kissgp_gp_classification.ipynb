{
 "cells": [
  {
   "cell_type": "code",
   "execution_count": null,
   "metadata": {},
   "outputs": [],
   "source": [
    "import math\n",
    "import torch\n",
    "import gpytorch\n",
    "from matplotlib import pyplot as plt\n",
    "\n",
    "%matplotlib inline\n",
    "%load_ext autoreload\n",
    "%autoreload 2"
   ]
  },
  {
   "cell_type": "code",
   "execution_count": 2,
   "metadata": {
    "collapsed": true
   },
   "outputs": [],
   "source": [
    "from torch.autograd import Variable\n",
    "train_x = Variable(torch.linspace(0, 1, 26))\n",
    "train_y = Variable(torch.sign(torch.cos(train_x.data * (8 * math.pi))))"
   ]
  },
  {
   "cell_type": "code",
   "execution_count": 3,
   "metadata": {
    "collapsed": true
   },
   "outputs": [],
   "source": [
    "from torch import nn, optim\n",
    "from gpytorch.kernels import RBFKernel, GridInterpolationKernel\n",
    "from gpytorch.means import ConstantMean\n",
    "from gpytorch.likelihoods import GaussianLikelihood, BernoulliLikelihood\n",
    "from gpytorch.random_variables import GaussianRandomVariable"
   ]
  },
  {
   "cell_type": "code",
   "execution_count": null,
   "metadata": {},
   "outputs": [],
   "source": [
    "class GPClassificationModel(gpytorch.GPModel):\n",
    "    def __init__(self):\n",
    "        super(GPClassificationModel,self).__init__(BernoulliLikelihood())\n",
    "        self.mean_module = ConstantMean()\n",
    "        self.covar_module = RBFKernel(log_lengthscale_bounds=(-6, 6))\n",
    "        self.grid_covar_module = GridInterpolationKernel(self.covar_module)\n",
    "        self.register_parameter('log_outputscale', nn.Parameter(torch.Tensor([0])), bounds=(-6,6))\n",
    "        self.initialize_interpolation_grid(30, grid_bounds=(0, 1))\n",
    "    \n",
    "    def forward(self,x):\n",
    "        mean_x = self.mean_module(x)\n",
    "        covar_x = self.grid_covar_module(x)\n",
    "        covar_x = covar_x.mul(self.log_outputscale.exp())\n",
    "        latent_pred = GaussianRandomVariable(mean_x, covar_x)\n",
    "        return latent_pred\n",
    "\n",
    "prior_model = GPClassificationModel()"
   ]
  },
  {
   "cell_type": "code",
   "execution_count": 5,
   "metadata": {
    "collapsed": true
   },
   "outputs": [],
   "source": [
    "def plot_model_and_predictions(model, plot_train_data=True):\n",
    "    f, observed_ax = plt.subplots(1, 1, figsize=(4, 3))\n",
    "    test_x = Variable(torch.linspace(0, 1, 100))\n",
    "    observed_pred = model(test_x)\n",
    "\n",
    "    def ax_plot(ax, rand_var, title):\n",
    "        if plot_train_data:\n",
    "            ax.plot(train_x.data.numpy(), train_y.data.numpy(), 'k*')\n",
    "        pred_labels = rand_var.mean().ge(0.5).float().mul(2).sub(1)\n",
    "        ax.plot(test_x.data.numpy(), pred_labels.data.numpy(), 'b')\n",
    "        ax.set_ylim([-3, 3])\n",
    "        ax.legend(['Observed Data', 'Mean', 'Confidence'])\n",
    "        ax.set_title(title)\n",
    "    \n",
    "    ax_plot(observed_ax, observed_pred, 'Observed Values (Likelihood)')\n",
    "    \n",
    "    return f"
   ]
  },
  {
   "cell_type": "code",
   "execution_count": 6,
   "metadata": {
    "scrolled": true
   },
   "outputs": [
    {
     "data": {
      "image/png": "[encoded data removed]",
      "text/plain": [
       "<matplotlib.figure.Figure at 0x10c127e50>"
      ]
     },
     "metadata": {},
     "output_type": "display_data"
    }
   ],
   "source": [
    "f = plot_model_and_predictions(prior_model, plot_train_data=True)"
   ]
  },
  {
   "cell_type": "code",
   "execution_count": 7,
   "metadata": {
    "scrolled": true
   },
   "outputs": [
    {
     "name": "stdout",
     "output_type": "stream",
     "text": [
      "(Variable containing:\n",
      "-0.0370\n",
      " 0.0000\n",
      " 0.0370\n",
      " 0.0741\n",
      " 0.1111\n",
      " 0.1481\n",
      " 0.1852\n",
      " 0.2222\n",
      " 0.2593\n",
      " 0.2963\n",
      " 0.3333\n",
      " 0.3704\n",
      " 0.4074\n",
      " 0.4444\n",
      " 0.4815\n",
      " 0.5185\n",
      " 0.5556\n",
      " 0.5926\n",
      " 0.6296\n",
      " 0.6667\n",
      " 0.7037\n",
      " 0.7407\n",
      " 0.7778\n",
      " 0.8148\n",
      " 0.8519\n",
      " 0.8889\n",
      " 0.9259\n",
      " 0.9630\n",
      " 1.0000\n",
      " 1.0370\n",
      "[torch.FloatTensor of size 30]\n",
      ",)\n",
      "Iter 1/20 - Loss: 61106.539   log_lengthscale: 0.000\n"
     ]
    },
    {
     "name": "stderr",
     "output_type": "stream",
     "text": [
      "/Users/ruihanwu/playground/gpytorch/gpytorch/kernels/rbf_kernel.py:42: UserWarning: other is not broadcastable to self, but they have the same number of elements.  Falling back to deprecated pointwise behavior.\n",
      "  grad.mul_(grad_output.transpose(0, 1))\n"
     ]
    },
    {
     "name": "stdout",
     "output_type": "stream",
     "text": [
      "Iter 2/20 - Loss: 48373.992   log_lengthscale: -0.100\n",
      "Iter 3/20 - Loss: 34988.660   log_lengthscale: -0.196\n",
      "Iter 4/20 - Loss: 26775.789   log_lengthscale: -0.285\n",
      "Iter 5/20 - Loss: 21163.891   log_lengthscale: -0.377\n",
      "Iter 6/20 - Loss: 19820.754   log_lengthscale: -0.469\n",
      "Iter 7/20 - Loss: 11862.473   log_lengthscale: -0.561\n",
      "Iter 8/20 - Loss: 10702.567   log_lengthscale: -0.654\n",
      "Iter 9/20 - Loss: 7073.797   log_lengthscale: -0.746\n",
      "Iter 10/20 - Loss: 5131.780   log_lengthscale: -0.839\n",
      "Iter 11/20 - Loss: 10972.894   log_lengthscale: -0.935\n",
      "Iter 12/20 - Loss: 5757.687   log_lengthscale: -1.030\n",
      "Iter 13/20 - Loss: 2091.012   log_lengthscale: -1.124\n",
      "Iter 14/20 - Loss: 4328.825   log_lengthscale: -1.216\n",
      "Iter 15/20 - Loss: 4204.508   log_lengthscale: -1.311\n",
      "Iter 16/20 - Loss: 4694.114   log_lengthscale: -1.403\n",
      "Iter 17/20 - Loss: 1542.469   log_lengthscale: -1.498\n",
      "Iter 18/20 - Loss: 2634.638   log_lengthscale: -1.583\n",
      "Iter 19/20 - Loss: 2545.196   log_lengthscale: -1.663\n",
      "Iter 20/20 - Loss: 813.200   log_lengthscale: -1.739\n",
      "Iter 21/20 - Loss: 1342.701   log_lengthscale: -1.807\n",
      "Iter 22/20 - Loss: 2554.072   log_lengthscale: -1.874\n",
      "Iter 23/20 - Loss: 2017.740   log_lengthscale: -1.941\n",
      "Iter 24/20 - Loss: 3187.659   log_lengthscale: -2.012\n",
      "Iter 25/20 - Loss: 3181.482   log_lengthscale: -2.083\n",
      "Iter 26/20 - Loss: 2514.738   log_lengthscale: -2.150\n",
      "Iter 27/20 - Loss: 962.982   log_lengthscale: -2.219\n",
      "Iter 28/20 - Loss: 770.826   log_lengthscale: -2.285\n",
      "Iter 29/20 - Loss: 302.585   log_lengthscale: -2.351\n",
      "Iter 30/20 - Loss: 1641.282   log_lengthscale: -2.416\n",
      "Iter 31/20 - Loss: 1009.036   log_lengthscale: -2.478\n",
      "Iter 32/20 - Loss: 466.610   log_lengthscale: -2.530\n",
      "Iter 33/20 - Loss: 397.740   log_lengthscale: -2.584\n",
      "Iter 34/20 - Loss: 290.198   log_lengthscale: -2.634\n",
      "Iter 35/20 - Loss: 470.267   log_lengthscale: -2.686\n",
      "Iter 36/20 - Loss: 144.081   log_lengthscale: -2.735\n",
      "Iter 37/20 - Loss: 119.964   log_lengthscale: -2.782\n",
      "Iter 38/20 - Loss: 185.372   log_lengthscale: -2.825\n",
      "Iter 39/20 - Loss: 157.169   log_lengthscale: -2.865\n",
      "Iter 40/20 - Loss: 242.953   log_lengthscale: -2.903\n",
      "Iter 41/20 - Loss: 144.659   log_lengthscale: -2.937\n",
      "Iter 42/20 - Loss: 87.006   log_lengthscale: -2.969\n",
      "Iter 43/20 - Loss: 68.444   log_lengthscale: -2.998\n",
      "Iter 44/20 - Loss: 43.164   log_lengthscale: -3.026\n"
     ]
    },
    {
     "ename": "KeyboardInterrupt",
     "evalue": "",
     "output_type": "error",
     "traceback": [
      "\u001b[0;31m---------------------------------------------------------------------------\u001b[0m",
      "\u001b[0;31mKeyboardInterrupt\u001b[0m                         Traceback (most recent call last)",
      "\u001b[0;32m<ipython-input-7-af124b608e7c>\u001b[0m in \u001b[0;36m<module>\u001b[0;34m()\u001b[0m\n\u001b[1;32m     10\u001b[0m     \u001b[0moptimizer\u001b[0m\u001b[0;34m.\u001b[0m\u001b[0mzero_grad\u001b[0m\u001b[0;34m(\u001b[0m\u001b[0;34m)\u001b[0m\u001b[0;34m\u001b[0m\u001b[0m\n\u001b[1;32m     11\u001b[0m     \u001b[0moutput\u001b[0m \u001b[0;34m=\u001b[0m \u001b[0mposterior_model\u001b[0m\u001b[0;34m.\u001b[0m\u001b[0mforward\u001b[0m\u001b[0;34m(\u001b[0m\u001b[0mtrain_x\u001b[0m\u001b[0;34m)\u001b[0m\u001b[0;34m\u001b[0m\u001b[0m\n\u001b[0;32m---> 12\u001b[0;31m     \u001b[0mloss\u001b[0m \u001b[0;34m=\u001b[0m \u001b[0;34m-\u001b[0m\u001b[0mposterior_model\u001b[0m\u001b[0;34m.\u001b[0m\u001b[0mmarginal_log_likelihood\u001b[0m\u001b[0;34m(\u001b[0m\u001b[0moutput\u001b[0m\u001b[0;34m,\u001b[0m \u001b[0mtrain_y\u001b[0m\u001b[0;34m)\u001b[0m\u001b[0;34m\u001b[0m\u001b[0m\n\u001b[0m\u001b[1;32m     13\u001b[0m     \u001b[0mloss\u001b[0m\u001b[0;34m.\u001b[0m\u001b[0mbackward\u001b[0m\u001b[0;34m(\u001b[0m\u001b[0;34m)\u001b[0m\u001b[0;34m\u001b[0m\u001b[0m\n\u001b[1;32m     14\u001b[0m     \u001b[0moptimizer\u001b[0m\u001b[0;34m.\u001b[0m\u001b[0mn_iter\u001b[0m \u001b[0;34m+=\u001b[0m \u001b[0;36m1\u001b[0m\u001b[0;34m\u001b[0m\u001b[0m\n",
      "\u001b[0;32m/Users/ruihanwu/playground/gpytorch/gpytorch/inference/posterior_models/variational_gp_posterior.pyc\u001b[0m in \u001b[0;36mmarginal_log_likelihood\u001b[0;34m(self, output, train_y, num_samples)\u001b[0m\n\u001b[1;32m    124\u001b[0m \u001b[0;34m\u001b[0m\u001b[0m\n\u001b[1;32m    125\u001b[0m         kl_divergence = gpytorch.mvn_kl_divergence(self.variational_mean,\n\u001b[0;32m--> 126\u001b[0;31m                                                    chol_var_covar, inducing_mean, train_covar, num_samples)\n\u001b[0m\u001b[1;32m    127\u001b[0m \u001b[0;34m\u001b[0m\u001b[0m\n\u001b[1;32m    128\u001b[0m         \u001b[0;32mreturn\u001b[0m \u001b[0mlog_likelihood\u001b[0m\u001b[0;34m.\u001b[0m\u001b[0msqueeze\u001b[0m\u001b[0;34m(\u001b[0m\u001b[0;34m)\u001b[0m \u001b[0;34m-\u001b[0m \u001b[0mkl_divergence\u001b[0m\u001b[0;34m\u001b[0m\u001b[0m\n",
      "\u001b[0;32m/Users/ruihanwu/playground/gpytorch/gpytorch/__init__.pyc\u001b[0m in \u001b[0;36mmvn_kl_divergence\u001b[0;34m(mean_1, chol_covar_1, mean_2, covar_2, num_samples)\u001b[0m\n\u001b[1;32m    158\u001b[0m \u001b[0;34m\u001b[0m\u001b[0m\n\u001b[1;32m    159\u001b[0m     \u001b[0;32mif\u001b[0m \u001b[0misinstance\u001b[0m\u001b[0;34m(\u001b[0m\u001b[0mcovar_2\u001b[0m\u001b[0;34m,\u001b[0m \u001b[0mLazyVariable\u001b[0m\u001b[0;34m)\u001b[0m\u001b[0;34m:\u001b[0m\u001b[0;34m\u001b[0m\u001b[0m\n\u001b[0;32m--> 160\u001b[0;31m         \u001b[0mtrace_logdet_quadform\u001b[0m \u001b[0;34m=\u001b[0m \u001b[0mcovar_2\u001b[0m\u001b[0;34m.\u001b[0m\u001b[0mtrace_log_det_quad_form\u001b[0m\u001b[0;34m(\u001b[0m\u001b[0mmu_diffs\u001b[0m\u001b[0;34m,\u001b[0m \u001b[0mchol_covar_1\u001b[0m\u001b[0;34m,\u001b[0m \u001b[0mnum_samples\u001b[0m\u001b[0;34m)\u001b[0m\u001b[0;34m\u001b[0m\u001b[0m\n\u001b[0m\u001b[1;32m    161\u001b[0m     \u001b[0;32melse\u001b[0m\u001b[0;34m:\u001b[0m\u001b[0;34m\u001b[0m\u001b[0m\n\u001b[1;32m    162\u001b[0m         trace_logdet_quadform = _trace_logdet_quad_form_factory_class(num_samples)(mu_diffs,\n",
      "\u001b[0;32m/Users/ruihanwu/playground/gpytorch/gpytorch/lazy/lazy_variable.pyc\u001b[0m in \u001b[0;36mtrace_log_det_quad_form\u001b[0;34m(self, mu_diffs, chol_covar_1, num_samples)\u001b[0m\n\u001b[1;32m    168\u001b[0m                                                                         self._derivative_quadratic_form_factory)\n\u001b[1;32m    169\u001b[0m         \u001b[0mcovar2_args\u001b[0m \u001b[0;34m=\u001b[0m \u001b[0mself\u001b[0m\u001b[0;34m.\u001b[0m\u001b[0minducing_representation\u001b[0m\u001b[0;34m(\u001b[0m\u001b[0;34m)\u001b[0m\u001b[0;34m\u001b[0m\u001b[0m\n\u001b[0;32m--> 170\u001b[0;31m         \u001b[0;32mreturn\u001b[0m \u001b[0mself\u001b[0m\u001b[0;34m.\u001b[0m\u001b[0m_trace_log_det_quad_form_class\u001b[0m\u001b[0;34m(\u001b[0m\u001b[0mnum_samples\u001b[0m\u001b[0;34m)\u001b[0m\u001b[0;34m(\u001b[0m\u001b[0mmu_diffs\u001b[0m\u001b[0;34m,\u001b[0m \u001b[0mchol_covar_1\u001b[0m\u001b[0;34m,\u001b[0m \u001b[0;34m*\u001b[0m\u001b[0mcovar2_args\u001b[0m\u001b[0;34m)\u001b[0m\u001b[0;34m\u001b[0m\u001b[0m\n\u001b[0m\u001b[1;32m    171\u001b[0m \u001b[0;34m\u001b[0m\u001b[0m\n\u001b[1;32m    172\u001b[0m     \u001b[0;32mdef\u001b[0m \u001b[0mexact_posterior_alpha\u001b[0m\u001b[0;34m(\u001b[0m\u001b[0mself\u001b[0m\u001b[0;34m,\u001b[0m \u001b[0mtrain_mean\u001b[0m\u001b[0;34m,\u001b[0m \u001b[0mtrain_y\u001b[0m\u001b[0;34m)\u001b[0m\u001b[0;34m:\u001b[0m\u001b[0;34m\u001b[0m\u001b[0m\n",
      "\u001b[0;32m/Users/ruihanwu/playground/gpytorch/gpytorch/utils/function_factory.pyc\u001b[0m in \u001b[0;36mforward\u001b[0;34m(self, mu_diff, chol_covar1, *covar2_args)\u001b[0m\n\u001b[1;32m    121\u001b[0m             log_det_covar2, = StochasticLQ(num_random_probes=10).evaluate(covar2_mv_closure,\n\u001b[1;32m    122\u001b[0m                                                                           \u001b[0mlen\u001b[0m\u001b[0;34m(\u001b[0m\u001b[0mmu_diff\u001b[0m\u001b[0;34m)\u001b[0m\u001b[0;34m,\u001b[0m\u001b[0;34m\u001b[0m\u001b[0m\n\u001b[0;32m--> 123\u001b[0;31m                                                                           [lambda x: x.log()])\n\u001b[0m\u001b[1;32m    124\u001b[0m \u001b[0;34m\u001b[0m\u001b[0m\n\u001b[1;32m    125\u001b[0m             \u001b[0;31m# Tr(K2^{-1}K1)\u001b[0m\u001b[0;34m\u001b[0m\u001b[0;34m\u001b[0m\u001b[0m\n",
      "\u001b[0;32m/Users/ruihanwu/playground/gpytorch/gpytorch/utils/lanczos_quadrature.pyc\u001b[0m in \u001b[0;36mevaluate\u001b[0;34m(self, A, n, funcs)\u001b[0m\n\u001b[1;32m    132\u001b[0m         \u001b[0;32mfor\u001b[0m \u001b[0mj\u001b[0m \u001b[0;32min\u001b[0m \u001b[0mrange\u001b[0m\u001b[0;34m(\u001b[0m\u001b[0mself\u001b[0m\u001b[0;34m.\u001b[0m\u001b[0mnum_random_probes\u001b[0m\u001b[0;34m)\u001b[0m\u001b[0;34m:\u001b[0m\u001b[0;34m\u001b[0m\u001b[0m\n\u001b[1;32m    133\u001b[0m             \u001b[0mvj\u001b[0m \u001b[0;34m=\u001b[0m \u001b[0mV\u001b[0m\u001b[0;34m[\u001b[0m\u001b[0;34m:\u001b[0m\u001b[0;34m,\u001b[0m \u001b[0mj\u001b[0m\u001b[0;34m]\u001b[0m\u001b[0;34m\u001b[0m\u001b[0m\n\u001b[0;32m--> 134\u001b[0;31m             \u001b[0mQ\u001b[0m\u001b[0;34m,\u001b[0m \u001b[0mT\u001b[0m \u001b[0;34m=\u001b[0m \u001b[0mself\u001b[0m\u001b[0;34m.\u001b[0m\u001b[0mlanczos\u001b[0m\u001b[0;34m(\u001b[0m\u001b[0mmv_closure\u001b[0m\u001b[0;34m,\u001b[0m \u001b[0mvj\u001b[0m\u001b[0;34m)\u001b[0m\u001b[0;34m\u001b[0m\u001b[0m\n\u001b[0m\u001b[1;32m    135\u001b[0m \u001b[0;34m\u001b[0m\u001b[0m\n\u001b[1;32m    136\u001b[0m             \u001b[0;31m# Eigendecomposition of a Tridiagonal matrix\u001b[0m\u001b[0;34m\u001b[0m\u001b[0;34m\u001b[0m\u001b[0m\n",
      "\u001b[0;32m/Users/ruihanwu/playground/gpytorch/gpytorch/utils/lanczos_quadrature.pyc\u001b[0m in \u001b[0;36mlanczos\u001b[0;34m(self, mv_closure, b)\u001b[0m\n\u001b[1;32m     52\u001b[0m \u001b[0;34m\u001b[0m\u001b[0m\n\u001b[1;32m     53\u001b[0m         \u001b[0;32mfor\u001b[0m \u001b[0mk\u001b[0m \u001b[0;32min\u001b[0m \u001b[0mrange\u001b[0m\u001b[0;34m(\u001b[0m\u001b[0;36m1\u001b[0m\u001b[0;34m,\u001b[0m \u001b[0mnum_iters\u001b[0m\u001b[0;34m)\u001b[0m\u001b[0;34m:\u001b[0m\u001b[0;34m\u001b[0m\u001b[0m\n\u001b[0;32m---> 54\u001b[0;31m             \u001b[0mu\u001b[0m\u001b[0;34m,\u001b[0m \u001b[0mb\u001b[0m\u001b[0;34m,\u001b[0m \u001b[0malpha_k\u001b[0m\u001b[0;34m,\u001b[0m \u001b[0mbeta_k\u001b[0m \u001b[0;34m=\u001b[0m \u001b[0mself\u001b[0m\u001b[0;34m.\u001b[0m\u001b[0m_lanczos_step\u001b[0m\u001b[0;34m(\u001b[0m\u001b[0mu\u001b[0m\u001b[0;34m,\u001b[0m \u001b[0mb\u001b[0m\u001b[0;34m,\u001b[0m \u001b[0mmv_closure\u001b[0m\u001b[0;34m,\u001b[0m \u001b[0mQ\u001b[0m\u001b[0;34m[\u001b[0m\u001b[0;34m:\u001b[0m\u001b[0;34m,\u001b[0m \u001b[0;34m:\u001b[0m\u001b[0mk\u001b[0m\u001b[0;34m]\u001b[0m\u001b[0;34m)\u001b[0m\u001b[0;34m\u001b[0m\u001b[0m\n\u001b[0m\u001b[1;32m     55\u001b[0m \u001b[0;34m\u001b[0m\u001b[0m\n\u001b[1;32m     56\u001b[0m             \u001b[0;32mif\u001b[0m \u001b[0mb\u001b[0m\u001b[0;34m.\u001b[0m\u001b[0msum\u001b[0m\u001b[0;34m(\u001b[0m\u001b[0;34m)\u001b[0m \u001b[0;34m==\u001b[0m \u001b[0;36m0\u001b[0m\u001b[0;34m:\u001b[0m\u001b[0;34m\u001b[0m\u001b[0m\n",
      "\u001b[0;32m/Users/ruihanwu/playground/gpytorch/gpytorch/utils/lanczos_quadrature.pyc\u001b[0m in \u001b[0;36m_lanczos_step\u001b[0;34m(self, u, v, mv_closure, Q)\u001b[0m\n\u001b[1;32m     80\u001b[0m         \u001b[0morig_u\u001b[0m \u001b[0;34m=\u001b[0m \u001b[0mu\u001b[0m\u001b[0;34m\u001b[0m\u001b[0m\n\u001b[1;32m     81\u001b[0m \u001b[0;34m\u001b[0m\u001b[0m\n\u001b[0;32m---> 82\u001b[0;31m         \u001b[0mu\u001b[0m \u001b[0;34m=\u001b[0m \u001b[0mv\u001b[0m \u001b[0;34m/\u001b[0m \u001b[0mnorm_v\u001b[0m\u001b[0;34m\u001b[0m\u001b[0m\n\u001b[0m\u001b[1;32m     83\u001b[0m \u001b[0;34m\u001b[0m\u001b[0m\n\u001b[1;32m     84\u001b[0m         \u001b[0;32mif\u001b[0m \u001b[0mQ\u001b[0m\u001b[0;34m.\u001b[0m\u001b[0msize\u001b[0m\u001b[0;34m(\u001b[0m\u001b[0;34m)\u001b[0m\u001b[0;34m[\u001b[0m\u001b[0;36m1\u001b[0m\u001b[0;34m]\u001b[0m \u001b[0;34m==\u001b[0m \u001b[0;36m1\u001b[0m\u001b[0;34m:\u001b[0m\u001b[0;34m\u001b[0m\u001b[0m\n",
      "\u001b[0;32m/Users/ruihanwu/anaconda/lib/python2.7/site-packages/torch/tensor.pyc\u001b[0m in \u001b[0;36m__div__\u001b[0;34m(self, other)\u001b[0m\n\u001b[1;32m    324\u001b[0m         \u001b[0;32mreturn\u001b[0m \u001b[0mself\u001b[0m\u001b[0;34m.\u001b[0m\u001b[0mpow_\u001b[0m\u001b[0;34m(\u001b[0m\u001b[0mother\u001b[0m\u001b[0;34m)\u001b[0m\u001b[0;34m\u001b[0m\u001b[0m\n\u001b[1;32m    325\u001b[0m \u001b[0;34m\u001b[0m\u001b[0m\n\u001b[0;32m--> 326\u001b[0;31m     \u001b[0;32mdef\u001b[0m \u001b[0m__div__\u001b[0m\u001b[0;34m(\u001b[0m\u001b[0mself\u001b[0m\u001b[0;34m,\u001b[0m \u001b[0mother\u001b[0m\u001b[0;34m)\u001b[0m\u001b[0;34m:\u001b[0m\u001b[0;34m\u001b[0m\u001b[0m\n\u001b[0m\u001b[1;32m    327\u001b[0m         \u001b[0;32mreturn\u001b[0m \u001b[0mself\u001b[0m\u001b[0;34m.\u001b[0m\u001b[0mdiv\u001b[0m\u001b[0;34m(\u001b[0m\u001b[0mother\u001b[0m\u001b[0;34m)\u001b[0m\u001b[0;34m\u001b[0m\u001b[0m\n\u001b[1;32m    328\u001b[0m     \u001b[0m__truediv__\u001b[0m \u001b[0;34m=\u001b[0m \u001b[0m__div__\u001b[0m\u001b[0;34m\u001b[0m\u001b[0m\n",
      "\u001b[0;31mKeyboardInterrupt\u001b[0m: "
     ]
    }
   ],
   "source": [
    "from gpytorch.inference import Inference\n",
    "infer = Inference(prior_model)\n",
    "posterior_model = infer.run(train_x, train_y)\n",
    "\n",
    "# Find optimal model hyperparameters\n",
    "posterior_model.train()\n",
    "optimizer = optim.Adam(posterior_model.parameters(), lr=0.1)\n",
    "optimizer.n_iter = 0\n",
    "for i in range(200):\n",
    "    optimizer.zero_grad()\n",
    "    output = posterior_model.forward(train_x)\n",
    "    loss = -posterior_model.marginal_log_likelihood(output, train_y)\n",
    "    loss.backward()\n",
    "    optimizer.n_iter += 1\n",
    "    print('Iter %d/20 - Loss: %.3f   log_lengthscale: %.3f' % (\n",
    "        i + 1, loss.data[0],\n",
    "        posterior_model.prior_model.covar_module.log_lengthscale.data.squeeze()[0],\n",
    "    ))\n",
    "    optimizer.step()\n",
    "    \n",
    "# Set back to eval mode\n",
    "posterior_model.eval()\n",
    "None"
   ]
  },
  {
   "cell_type": "code",
   "execution_count": 8,
   "metadata": {
    "scrolled": false
   },
   "outputs": [
    {
     "data": {
      "image/png": "[encoded data removed]",
      "text/plain": [
       "<matplotlib.figure.Figure at 0x11092ae10>"
      ]
     },
     "metadata": {},
     "output_type": "display_data"
    }
   ],
   "source": [
    "f = plot_model_and_predictions(posterior_model)"
   ]
  },
  {
   "cell_type": "code",
   "execution_count": null,
   "metadata": {},
   "outputs": [],
   "source": [
    "%debug"
   ]
  },
  {
   "cell_type": "code",
   "execution_count": null,
   "metadata": {
    "collapsed": true
   },
   "outputs": [],
   "source": []
  }
 ],
 "metadata": {
  "anaconda-cloud": {},
  "kernelspec": {
   "display_name": "Python 2",
   "language": "python",
   "name": "python2"
  },
  "language_info": {
   "codemirror_mode": {
    "name": "ipython",
    "version": 2
   },
   "file_extension": ".py",
   "mimetype": "text/x-python",
   "name": "python",
   "nbconvert_exporter": "python",
   "pygments_lexer": "ipython2",
   "version": "2.7.13"
  }
 },
 "nbformat": 4,
 "nbformat_minor": 1
}
