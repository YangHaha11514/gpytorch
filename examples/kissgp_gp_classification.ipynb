{
 "cells": [
  {
   "cell_type": "code",
   "execution_count": 1,
   "metadata": {
    "collapsed": true
   },
   "outputs": [],
   "source": [
    "import math\n",
    "import torch\n",
    "import gpytorch\n",
    "from matplotlib import pyplot as plt\n",
    "\n",
    "%matplotlib inline\n",
    "%load_ext autoreload\n",
    "%autoreload 2"
   ]
  },
  {
   "cell_type": "code",
   "execution_count": 2,
   "metadata": {
    "collapsed": true
   },
   "outputs": [],
   "source": [
    "from torch.autograd import Variable\n",
    "train_x = Variable(torch.linspace(0, 1, 26))\n",
    "train_y = Variable(torch.sign(torch.cos(train_x.data * (8 * math.pi))))"
   ]
  },
  {
   "cell_type": "code",
   "execution_count": 3,
   "metadata": {},
   "outputs": [],
   "source": [
    "from torch import nn, optim\n",
    "from gpytorch.kernels import RBFKernel, GridInterpolationKernel\n",
    "from gpytorch.means import ConstantMean\n",
    "from gpytorch.likelihoods import GaussianLikelihood, BernoulliLikelihood\n",
    "from gpytorch.random_variables import GaussianRandomVariable"
   ]
  },
  {
   "cell_type": "code",
   "execution_count": 4,
   "metadata": {},
   "outputs": [],
   "source": [
    "class GPClassificationModel(gpytorch.GPModel):\n",
    "    def __init__(self):\n",
    "        super(GPClassificationModel,self).__init__(BernoulliLikelihood())\n",
    "        self.mean_module = ConstantMean()\n",
    "        self.covar_module = RBFKernel(log_lengthscale_bounds=(-6, 6))\n",
    "        self.grid_covar_module = GridInterpolationKernel(self.covar_module)\n",
    "        self.register_parameter('log_outputscale', nn.Parameter(torch.Tensor([0])), bounds=(-6,6))\n",
    "        self.initialize_interpolation_grid(30, grid_bounds=[(0, 1)])\n",
    "    \n",
    "    def forward(self,x):\n",
    "        mean_x = self.mean_module(x)\n",
    "        covar_x = self.grid_covar_module(x)\n",
    "        covar_x = covar_x.mul(self.log_outputscale.exp())\n",
    "        latent_pred = GaussianRandomVariable(mean_x, covar_x)\n",
    "        return latent_pred\n",
    "\n",
    "prior_model = GPClassificationModel()"
   ]
  },
  {
   "cell_type": "code",
   "execution_count": 5,
   "metadata": {
    "collapsed": true
   },
   "outputs": [],
   "source": [
    "def plot_model_and_predictions(model, plot_train_data=True):\n",
    "    f, observed_ax = plt.subplots(1, 1, figsize=(4, 3))\n",
    "    test_x = Variable(torch.linspace(0, 1, 100))\n",
    "    observed_pred = model(test_x)\n",
    "\n",
    "    def ax_plot(ax, rand_var, title):\n",
    "        if plot_train_data:\n",
    "            ax.plot(train_x.data.numpy(), train_y.data.numpy(), 'k*')\n",
    "        pred_labels = rand_var.mean().ge(0.5).float().mul(2).sub(1)\n",
    "        ax.plot(test_x.data.numpy(), pred_labels.data.numpy(), 'b')\n",
    "        ax.set_ylim([-3, 3])\n",
    "        ax.legend(['Observed Data', 'Mean', 'Confidence'])\n",
    "        ax.set_title(title)\n",
    "    \n",
    "    ax_plot(observed_ax, observed_pred, 'Observed Values (Likelihood)')\n",
    "    \n",
    "    return f"
   ]
  },
  {
   "cell_type": "code",
   "execution_count": 6,
   "metadata": {
    "scrolled": true
   },
   "outputs": [
    {
     "data": {
      "image/png": "[encoded data removed]",
      "text/plain": [
       "<matplotlib.figure.Figure at 0x112f3dd10>"
      ]
     },
     "metadata": {},
     "output_type": "display_data"
    }
   ],
   "source": [
    "f = plot_model_and_predictions(prior_model, plot_train_data=True)"
   ]
  },
  {
   "cell_type": "code",
   "execution_count": 7,
   "metadata": {
    "scrolled": true
   },
   "outputs": [
    {
     "name": "stderr",
     "output_type": "stream",
     "text": [
      "/Users/ruihanwu/playground/gpytorch/gpytorch/kernels/rbf_kernel.py:42: UserWarning: other is not broadcastable to self, but they have the same number of elements.  Falling back to deprecated pointwise behavior.\n",
      "  grad.mul_(grad_output.transpose(0, 1))\n"
     ]
    },
    {
     "name": "stdout",
     "output_type": "stream",
     "text": [
      "Iter 1/20 - Loss: 62806.883   log_lengthscale: 0.000\n",
      "Iter 2/20 - Loss: 49679.234   log_lengthscale: -0.100\n",
      "Iter 3/20 - Loss: 34333.570   log_lengthscale: -0.199\n",
      "Iter 4/20 - Loss: 29077.658   log_lengthscale: -0.298\n",
      "Iter 5/20 - Loss: 22399.316   log_lengthscale: -0.393\n",
      "Iter 6/20 - Loss: 16085.794   log_lengthscale: -0.489\n",
      "Iter 7/20 - Loss: 10147.456   log_lengthscale: -0.583\n",
      "Iter 8/20 - Loss: 8615.176   log_lengthscale: -0.676\n",
      "Iter 9/20 - Loss: 9358.106   log_lengthscale: -0.772\n",
      "Iter 10/20 - Loss: 4116.499   log_lengthscale: -0.868\n",
      "Iter 11/20 - Loss: 3865.708   log_lengthscale: -0.965\n",
      "Iter 12/20 - Loss: -270.663   log_lengthscale: -1.062\n",
      "Iter 13/20 - Loss: 5072.482   log_lengthscale: -1.161\n",
      "Iter 14/20 - Loss: 2449.570   log_lengthscale: -1.262\n",
      "Iter 15/20 - Loss: 4388.247   log_lengthscale: -1.359\n",
      "Iter 16/20 - Loss: 4465.408   log_lengthscale: -1.452\n",
      "Iter 17/20 - Loss: 3180.683   log_lengthscale: -1.544\n",
      "Iter 18/20 - Loss: 2686.940   log_lengthscale: -1.635\n",
      "Iter 19/20 - Loss: 1767.302   log_lengthscale: -1.726\n",
      "Iter 20/20 - Loss: 1933.858   log_lengthscale: -1.814\n",
      "Iter 21/20 - Loss: 1101.190   log_lengthscale: -1.905\n",
      "Iter 22/20 - Loss: 1866.824   log_lengthscale: -1.993\n",
      "Iter 23/20 - Loss: 2598.967   log_lengthscale: -2.078\n",
      "Iter 24/20 - Loss: 847.219   log_lengthscale: -2.161\n",
      "Iter 25/20 - Loss: 609.814   log_lengthscale: -2.242\n",
      "Iter 26/20 - Loss: 1123.266   log_lengthscale: -2.317\n",
      "Iter 27/20 - Loss: 211.259   log_lengthscale: -2.398\n",
      "Iter 28/20 - Loss: 177.858   log_lengthscale: -2.477\n",
      "Iter 29/20 - Loss: 65.639   log_lengthscale: -2.550\n",
      "Iter 30/20 - Loss: 192.582   log_lengthscale: -2.619\n",
      "Iter 31/20 - Loss: 270.324   log_lengthscale: -2.683\n",
      "Iter 32/20 - Loss: 98.154   log_lengthscale: -2.743\n",
      "Iter 33/20 - Loss: 174.927   log_lengthscale: -2.802\n",
      "Iter 34/20 - Loss: 121.186   log_lengthscale: -2.858\n",
      "Iter 35/20 - Loss: 252.714   log_lengthscale: -2.910\n",
      "Iter 36/20 - Loss: 60.813   log_lengthscale: -2.958\n",
      "Iter 37/20 - Loss: 176.275   log_lengthscale: -3.007\n",
      "Iter 38/20 - Loss: 60.997   log_lengthscale: -3.054\n",
      "Iter 39/20 - Loss: 6.766   log_lengthscale: -3.099\n",
      "Iter 40/20 - Loss: 78.316   log_lengthscale: -3.143\n",
      "Iter 41/20 - Loss: 32.431   log_lengthscale: -3.184\n",
      "Iter 42/20 - Loss: 62.998   log_lengthscale: -3.222\n",
      "Iter 43/20 - Loss: 38.509   log_lengthscale: -3.256\n",
      "Iter 44/20 - Loss: 22.138   log_lengthscale: -3.288\n",
      "Iter 45/20 - Loss: 43.679   log_lengthscale: -3.318\n",
      "Iter 46/20 - Loss: 36.810   log_lengthscale: -3.345\n",
      "Iter 47/20 - Loss: 28.608   log_lengthscale: -3.370\n",
      "Iter 48/20 - Loss: 12.236   log_lengthscale: -3.394\n",
      "Iter 49/20 - Loss: 27.212   log_lengthscale: -3.416\n",
      "Iter 50/20 - Loss: 32.127   log_lengthscale: -3.438\n",
      "Iter 51/20 - Loss: 39.082   log_lengthscale: -3.459\n",
      "Iter 52/20 - Loss: 26.792   log_lengthscale: -3.477\n",
      "Iter 53/20 - Loss: 23.174   log_lengthscale: -3.494\n",
      "Iter 54/20 - Loss: 29.576   log_lengthscale: -3.510\n",
      "Iter 55/20 - Loss: 36.950   log_lengthscale: -3.524\n",
      "Iter 56/20 - Loss: 34.269   log_lengthscale: -3.538\n",
      "Iter 57/20 - Loss: 53.604   log_lengthscale: -3.550\n",
      "Iter 58/20 - Loss: 46.791   log_lengthscale: -3.561\n",
      "Iter 59/20 - Loss: 34.509   log_lengthscale: -3.571\n",
      "Iter 60/20 - Loss: 29.482   log_lengthscale: -3.580\n",
      "Iter 61/20 - Loss: 39.550   log_lengthscale: -3.588\n",
      "Iter 62/20 - Loss: 46.044   log_lengthscale: -3.596\n",
      "Iter 63/20 - Loss: 36.183   log_lengthscale: -3.603\n",
      "Iter 64/20 - Loss: 31.214   log_lengthscale: -3.609\n",
      "Iter 65/20 - Loss: 36.107   log_lengthscale: -3.615\n",
      "Iter 66/20 - Loss: 19.914   log_lengthscale: -3.621\n",
      "Iter 67/20 - Loss: 32.749   log_lengthscale: -3.625\n",
      "Iter 68/20 - Loss: 33.201   log_lengthscale: -3.630\n",
      "Iter 69/20 - Loss: 27.819   log_lengthscale: -3.634\n",
      "Iter 70/20 - Loss: 36.271   log_lengthscale: -3.638\n",
      "Iter 71/20 - Loss: 41.293   log_lengthscale: -3.641\n",
      "Iter 72/20 - Loss: 38.557   log_lengthscale: -3.645\n",
      "Iter 73/20 - Loss: 40.833   log_lengthscale: -3.648\n",
      "Iter 74/20 - Loss: 31.206   log_lengthscale: -3.651\n",
      "Iter 75/20 - Loss: 38.129   log_lengthscale: -3.654\n",
      "Iter 76/20 - Loss: 38.681   log_lengthscale: -3.657\n",
      "Iter 77/20 - Loss: 41.030   log_lengthscale: -3.659\n",
      "Iter 78/20 - Loss: 29.642   log_lengthscale: -3.662\n",
      "Iter 79/20 - Loss: 27.783   log_lengthscale: -3.664\n",
      "Iter 80/20 - Loss: 25.679   log_lengthscale: -3.667\n",
      "Iter 81/20 - Loss: 26.261   log_lengthscale: -3.669\n",
      "Iter 82/20 - Loss: 33.945   log_lengthscale: -3.671\n",
      "Iter 83/20 - Loss: 20.941   log_lengthscale: -3.673\n",
      "Iter 84/20 - Loss: 21.160   log_lengthscale: -3.675\n",
      "Iter 85/20 - Loss: 35.473   log_lengthscale: -3.677\n",
      "Iter 86/20 - Loss: 40.129   log_lengthscale: -3.678\n",
      "Iter 87/20 - Loss: 39.863   log_lengthscale: -3.679\n",
      "Iter 88/20 - Loss: 41.092   log_lengthscale: -3.681\n",
      "Iter 89/20 - Loss: 32.849   log_lengthscale: -3.682\n",
      "Iter 90/20 - Loss: 38.816   log_lengthscale: -3.683\n",
      "Iter 91/20 - Loss: 35.426   log_lengthscale: -3.683\n",
      "Iter 92/20 - Loss: 32.623   log_lengthscale: -3.684\n",
      "Iter 93/20 - Loss: 33.261   log_lengthscale: -3.686\n",
      "Iter 94/20 - Loss: 41.266   log_lengthscale: -3.687\n",
      "Iter 95/20 - Loss: 41.031   log_lengthscale: -3.688\n",
      "Iter 96/20 - Loss: 34.747   log_lengthscale: -3.689\n",
      "Iter 97/20 - Loss: 43.329   log_lengthscale: -3.690\n",
      "Iter 98/20 - Loss: 28.632   log_lengthscale: -3.691\n",
      "Iter 99/20 - Loss: 35.485   log_lengthscale: -3.692\n",
      "Iter 100/20 - Loss: 27.329   log_lengthscale: -3.693\n",
      "Iter 101/20 - Loss: 38.995   log_lengthscale: -3.694\n",
      "Iter 102/20 - Loss: 40.979   log_lengthscale: -3.696\n",
      "Iter 103/20 - Loss: 31.237   log_lengthscale: -3.697\n",
      "Iter 104/20 - Loss: 28.042   log_lengthscale: -3.698\n",
      "Iter 105/20 - Loss: 35.598   log_lengthscale: -3.698\n",
      "Iter 106/20 - Loss: 35.950   log_lengthscale: -3.699\n",
      "Iter 107/20 - Loss: 34.546   log_lengthscale: -3.699\n",
      "Iter 108/20 - Loss: 30.824   log_lengthscale: -3.700\n",
      "Iter 109/20 - Loss: 28.168   log_lengthscale: -3.700\n",
      "Iter 110/20 - Loss: 26.431   log_lengthscale: -3.700\n",
      "Iter 111/20 - Loss: 27.091   log_lengthscale: -3.700\n",
      "Iter 112/20 - Loss: 41.295   log_lengthscale: -3.700\n",
      "Iter 113/20 - Loss: 37.161   log_lengthscale: -3.701\n",
      "Iter 114/20 - Loss: 31.986   log_lengthscale: -3.701\n",
      "Iter 115/20 - Loss: 23.245   log_lengthscale: -3.700\n",
      "Iter 116/20 - Loss: 22.861   log_lengthscale: -3.700\n",
      "Iter 117/20 - Loss: 35.468   log_lengthscale: -3.700\n",
      "Iter 118/20 - Loss: 48.567   log_lengthscale: -3.699\n",
      "Iter 119/20 - Loss: 16.732   log_lengthscale: -3.699\n",
      "Iter 120/20 - Loss: 33.508   log_lengthscale: -3.699\n",
      "Iter 121/20 - Loss: 24.160   log_lengthscale: -3.698\n",
      "Iter 122/20 - Loss: 25.551   log_lengthscale: -3.698\n",
      "Iter 123/20 - Loss: 38.553   log_lengthscale: -3.698\n",
      "Iter 124/20 - Loss: 40.168   log_lengthscale: -3.697\n",
      "Iter 125/20 - Loss: 29.080   log_lengthscale: -3.697\n",
      "Iter 126/20 - Loss: 27.136   log_lengthscale: -3.696\n",
      "Iter 127/20 - Loss: 34.270   log_lengthscale: -3.695\n",
      "Iter 128/20 - Loss: 42.666   log_lengthscale: -3.695\n",
      "Iter 129/20 - Loss: 36.402   log_lengthscale: -3.694\n",
      "Iter 130/20 - Loss: 43.249   log_lengthscale: -3.693\n",
      "Iter 131/20 - Loss: 18.991   log_lengthscale: -3.692\n",
      "Iter 132/20 - Loss: 37.096   log_lengthscale: -3.692\n",
      "Iter 133/20 - Loss: 31.950   log_lengthscale: -3.691\n",
      "Iter 134/20 - Loss: 29.413   log_lengthscale: -3.690\n",
      "Iter 135/20 - Loss: 19.468   log_lengthscale: -3.690\n",
      "Iter 136/20 - Loss: 31.770   log_lengthscale: -3.689\n",
      "Iter 137/20 - Loss: 16.222   log_lengthscale: -3.689\n",
      "Iter 138/20 - Loss: 15.546   log_lengthscale: -3.689\n",
      "Iter 139/20 - Loss: 32.386   log_lengthscale: -3.688\n",
      "Iter 140/20 - Loss: 18.716   log_lengthscale: -3.688\n",
      "Iter 141/20 - Loss: 30.386   log_lengthscale: -3.688\n",
      "Iter 142/20 - Loss: 29.384   log_lengthscale: -3.687\n",
      "Iter 143/20 - Loss: 21.770   log_lengthscale: -3.687\n",
      "Iter 144/20 - Loss: 33.931   log_lengthscale: -3.686\n",
      "Iter 145/20 - Loss: 20.323   log_lengthscale: -3.686\n",
      "Iter 146/20 - Loss: 22.926   log_lengthscale: -3.685\n",
      "Iter 147/20 - Loss: 27.090   log_lengthscale: -3.684\n",
      "Iter 148/20 - Loss: 28.865   log_lengthscale: -3.684\n",
      "Iter 149/20 - Loss: 31.949   log_lengthscale: -3.683\n",
      "Iter 150/20 - Loss: 34.299   log_lengthscale: -3.682\n",
      "Iter 151/20 - Loss: 20.736   log_lengthscale: -3.682\n",
      "Iter 152/20 - Loss: 24.326   log_lengthscale: -3.681\n",
      "Iter 153/20 - Loss: 25.695   log_lengthscale: -3.681\n",
      "Iter 154/20 - Loss: 19.079   log_lengthscale: -3.680\n",
      "Iter 155/20 - Loss: 35.030   log_lengthscale: -3.680\n",
      "Iter 156/20 - Loss: 23.702   log_lengthscale: -3.680\n",
      "Iter 157/20 - Loss: 27.559   log_lengthscale: -3.680\n"
     ]
    },
    {
     "name": "stdout",
     "output_type": "stream",
     "text": [
      "Iter 158/20 - Loss: 24.918   log_lengthscale: -3.679\n",
      "Iter 159/20 - Loss: 29.918   log_lengthscale: -3.679\n",
      "Iter 160/20 - Loss: 23.028   log_lengthscale: -3.679\n",
      "Iter 161/20 - Loss: 12.661   log_lengthscale: -3.678\n",
      "Iter 162/20 - Loss: 36.360   log_lengthscale: -3.678\n",
      "Iter 163/20 - Loss: 24.227   log_lengthscale: -3.678\n",
      "Iter 164/20 - Loss: 21.276   log_lengthscale: -3.678\n",
      "Iter 165/20 - Loss: 22.022   log_lengthscale: -3.677\n",
      "Iter 166/20 - Loss: 33.997   log_lengthscale: -3.677\n",
      "Iter 167/20 - Loss: 25.880   log_lengthscale: -3.677\n",
      "Iter 168/20 - Loss: 29.335   log_lengthscale: -3.677\n",
      "Iter 169/20 - Loss: 23.453   log_lengthscale: -3.677\n",
      "Iter 170/20 - Loss: 11.433   log_lengthscale: -3.676\n",
      "Iter 171/20 - Loss: 10.557   log_lengthscale: -3.676\n",
      "Iter 172/20 - Loss: 18.529   log_lengthscale: -3.676\n",
      "Iter 173/20 - Loss: 21.250   log_lengthscale: -3.675\n",
      "Iter 174/20 - Loss: 20.852   log_lengthscale: -3.675\n",
      "Iter 175/20 - Loss: 8.484   log_lengthscale: -3.675\n",
      "Iter 176/20 - Loss: 28.649   log_lengthscale: -3.674\n",
      "Iter 177/20 - Loss: 18.352   log_lengthscale: -3.674\n",
      "Iter 178/20 - Loss: 25.733   log_lengthscale: -3.673\n",
      "Iter 179/20 - Loss: 19.095   log_lengthscale: -3.672\n",
      "Iter 180/20 - Loss: 15.903   log_lengthscale: -3.672\n",
      "Iter 181/20 - Loss: 23.253   log_lengthscale: -3.672\n",
      "Iter 182/20 - Loss: 25.728   log_lengthscale: -3.671\n",
      "Iter 183/20 - Loss: 31.191   log_lengthscale: -3.671\n",
      "Iter 184/20 - Loss: 20.534   log_lengthscale: -3.671\n",
      "Iter 185/20 - Loss: 24.458   log_lengthscale: -3.671\n",
      "Iter 186/20 - Loss: 24.519   log_lengthscale: -3.671\n",
      "Iter 187/20 - Loss: 32.537   log_lengthscale: -3.671\n",
      "Iter 188/20 - Loss: 17.952   log_lengthscale: -3.671\n",
      "Iter 189/20 - Loss: 18.923   log_lengthscale: -3.671\n",
      "Iter 190/20 - Loss: 21.414   log_lengthscale: -3.670\n",
      "Iter 191/20 - Loss: 17.661   log_lengthscale: -3.670\n",
      "Iter 192/20 - Loss: 27.851   log_lengthscale: -3.670\n",
      "Iter 193/20 - Loss: 19.751   log_lengthscale: -3.670\n",
      "Iter 194/20 - Loss: 23.707   log_lengthscale: -3.670\n",
      "Iter 195/20 - Loss: 24.151   log_lengthscale: -3.670\n",
      "Iter 196/20 - Loss: 20.885   log_lengthscale: -3.670\n",
      "Iter 197/20 - Loss: 32.391   log_lengthscale: -3.669\n",
      "Iter 198/20 - Loss: 13.342   log_lengthscale: -3.669\n",
      "Iter 199/20 - Loss: 14.420   log_lengthscale: -3.669\n",
      "Iter 200/20 - Loss: 22.593   log_lengthscale: -3.669\n"
     ]
    }
   ],
   "source": [
    "from gpytorch.inference import Inference\n",
    "infer = Inference(prior_model)\n",
    "posterior_model = infer.run(train_x, train_y)\n",
    "\n",
    "# Find optimal model hyperparameters\n",
    "posterior_model.train()\n",
    "optimizer = optim.Adam(posterior_model.parameters(), lr=0.1)\n",
    "optimizer.n_iter = 0\n",
    "for i in range(200):\n",
    "    optimizer.zero_grad()\n",
    "    output = posterior_model.forward(train_x)\n",
    "    loss = -posterior_model.marginal_log_likelihood(output, train_y)\n",
    "    loss.backward()\n",
    "    optimizer.n_iter += 1\n",
    "    print('Iter %d/20 - Loss: %.3f   log_lengthscale: %.3f' % (\n",
    "        i + 1, loss.data[0],\n",
    "        posterior_model.prior_model.covar_module.log_lengthscale.data.squeeze()[0],\n",
    "    ))\n",
    "    optimizer.step()\n",
    "    \n",
    "# Set back to eval mode\n",
    "posterior_model.eval()\n",
    "None"
   ]
  },
  {
   "cell_type": "code",
   "execution_count": 8,
   "metadata": {
    "scrolled": false
   },
   "outputs": [
    {
     "data": {
      "image/png": "[encoded data removed]",
      "text/plain": [
       "<matplotlib.figure.Figure at 0x112f3dd50>"
      ]
     },
     "metadata": {},
     "output_type": "display_data"
    }
   ],
   "source": [
    "f = plot_model_and_predictions(posterior_model)"
   ]
  },
  {
   "cell_type": "code",
   "execution_count": null,
   "metadata": {
    "collapsed": true
   },
   "outputs": [],
   "source": [
    "%debug"
   ]
  },
  {
   "cell_type": "code",
   "execution_count": null,
   "metadata": {
    "collapsed": true
   },
   "outputs": [],
   "source": []
  }
 ],
 "metadata": {
  "anaconda-cloud": {},
  "kernelspec": {
   "display_name": "Python 2",
   "language": "python",
   "name": "python2"
  },
  "language_info": {
   "codemirror_mode": {
    "name": "ipython",
    "version": 2
   },
   "file_extension": ".py",
   "mimetype": "text/x-python",
   "name": "python",
   "nbconvert_exporter": "python",
   "pygments_lexer": "ipython2",
   "version": "2.7.13"
  }
 },
 "nbformat": 4,
 "nbformat_minor": 1
}
