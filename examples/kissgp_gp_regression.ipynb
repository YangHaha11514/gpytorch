{
 "cells": [
  {
   "cell_type": "code",
   "execution_count": 1,
   "metadata": {},
   "outputs": [],
   "source": [
    "import math\n",
    "import torch\n",
    "import gpytorch\n",
    "from matplotlib import pyplot as plt\n",
    "from torch import nn, optim\n",
    "from torch.autograd import Variable\n",
    "from gpytorch.kernels import RBFKernel, GridInterpolationKernel\n",
    "from gpytorch.means import ConstantMean\n",
    "from gpytorch.likelihoods import GaussianLikelihood\n",
    "from gpytorch.inference import Inference\n",
    "from gpytorch.random_variables import GaussianRandomVariable\n",
    "\n",
    "%matplotlib inline"
   ]
  },
  {
   "cell_type": "code",
   "execution_count": 2,
   "metadata": {
    "collapsed": true
   },
   "outputs": [],
   "source": [
    "train_x = Variable(torch.linspace(0, 1, 1000))\n",
    "train_y = Variable(torch.sin(train_x.data * (4 * math.pi)) + torch.randn(train_x.size()) * 0.2)"
   ]
  },
  {
   "cell_type": "code",
   "execution_count": 3,
   "metadata": {},
   "outputs": [],
   "source": [
    "class KissGPModel(gpytorch.GPModel):\n",
    "    def __init__(self):\n",
    "        super(KissGPModel, self).__init__(GaussianLikelihood(log_noise_bounds=(-5, 5)))\n",
    "        self.mean_module = ConstantMean(constant_bounds=(-1, 1))\n",
    "        covar_module = RBFKernel(log_lengthscale_bounds=(-3, 5))\n",
    "        self.grid_covar_module = GridInterpolationKernel(covar_module)\n",
    "        self.register_parameter('log_outputscale', nn.Parameter(torch.Tensor([0])), bounds=(-1, 1))\n",
    "        self.initialize_interpolation_grid(50, grid_bounds=(0, 1))\n",
    "\n",
    "    def forward(self, x):\n",
    "        mean_x = self.mean_module(x)\n",
    "        covar_x = self.grid_covar_module(x)\n",
    "        covar_x = covar_x.mul(self.log_outputscale.exp())\n",
    "        return GaussianRandomVariable(mean_x, covar_x)\n",
    "    \n",
    "prior_model = KissGPModel()"
   ]
  },
  {
   "cell_type": "code",
   "execution_count": 4,
   "metadata": {
    "collapsed": true
   },
   "outputs": [],
   "source": [
    "def plot_model_and_predictions(model, plot_train_data=True):\n",
    "    f, observed_ax = plt.subplots(1, 1, figsize=(4, 3))\n",
    "    test_x = Variable(torch.linspace(0, 1, 51))\n",
    "    observed_pred = model(test_x)\n",
    "\n",
    "    def ax_plot(ax, rand_var, title):\n",
    "        lower, upper = rand_var.confidence_region()\n",
    "        if plot_train_data:\n",
    "            ax.plot(train_x.data.numpy(), train_y.data.numpy(), 'k*')\n",
    "        ax.plot(test_x.data.numpy(), rand_var.mean().data.numpy(), 'b')\n",
    "        ax.fill_between(test_x.data.numpy(), lower.data.numpy(), upper.data.numpy(), alpha=0.5)\n",
    "        ax.set_ylim([-3, 3])\n",
    "        ax.legend(['Observed Data', 'Mean', 'Confidence'])\n",
    "        ax.set_title(title)\n",
    "    \n",
    "    ax_plot(observed_ax, observed_pred, 'Observed Values (Likelihood)')\n",
    "    \n",
    "    return f"
   ]
  },
  {
   "cell_type": "code",
   "execution_count": 5,
   "metadata": {},
   "outputs": [
    {
     "data": {
      "image/png": "[encoded data removed]",
      "text/plain": [
       "<matplotlib.figure.Figure at 0x7f86b758edd0>"
      ]
     },
     "metadata": {},
     "output_type": "display_data"
    }
   ],
   "source": [
    "f = plot_model_and_predictions(prior_model, plot_train_data=False)"
   ]
  },
  {
   "cell_type": "code",
   "execution_count": 6,
   "metadata": {},
   "outputs": [
    {
     "name": "stderr",
     "output_type": "stream",
     "text": [
      "/home/jgardner/gpytorch/gpytorch/kernels/rbf_kernel.py:42: UserWarning: other is not broadcastable to self, but they have the same number of elements.  Falling back to deprecated pointwise behavior.\n",
      "  grad.mul_(grad_output.transpose(0, 1))\n"
     ]
    },
    {
     "name": "stdout",
     "output_type": "stream",
     "text": [
      "Iter 1/30 - Loss: 1147.974\n",
      "Iter 2/30 - Loss: nan\n",
      "Iter 3/30 - Loss: nan\n",
      "Iter 4/30 - Loss: nan\n",
      "Iter 5/30 - Loss: nan\n",
      "Iter 6/30 - Loss: nan\n",
      "Iter 7/30 - Loss: nan\n",
      "Iter 8/30 - Loss: nan\n",
      "Iter 9/30 - Loss: nan\n",
      "Iter 10/30 - Loss: nan\n",
      "Iter 11/30 - Loss: nan\n",
      "Iter 12/30 - Loss: nan\n",
      "Iter 13/30 - Loss: nan\n",
      "Iter 14/30 - Loss: nan\n",
      "Iter 15/30 - Loss: nan\n",
      "Iter 16/30 - Loss: nan\n",
      "Iter 17/30 - Loss: nan\n",
      "Iter 18/30 - Loss: 308.295\n",
      "Iter 19/30 - Loss: 238.049\n",
      "Iter 20/30 - Loss: 175.710\n",
      "Iter 21/30 - Loss: 115.067\n",
      "Iter 22/30 - Loss: 67.814\n",
      "Iter 23/30 - Loss: 27.763\n",
      "Iter 24/30 - Loss: -8.630\n",
      "Iter 25/30 - Loss: -42.111\n",
      "Iter 26/30 - Loss: -69.971\n",
      "Iter 27/30 - Loss: -102.851\n",
      "Iter 28/30 - Loss: -123.788\n",
      "Iter 29/30 - Loss: -145.811\n",
      "Iter 30/30 - Loss: -168.565\n"
     ]
    }
   ],
   "source": [
    "infer = Inference(prior_model)\n",
    "posterior_model = infer.run(train_x, train_y)\n",
    "\n",
    "# Optimize the model\n",
    "posterior_model.train()\n",
    "optimizer = optim.Adam(posterior_model.parameters(), lr=0.1)\n",
    "optimizer.n_iter = 0\n",
    "for i in range(30):\n",
    "    optimizer.zero_grad()\n",
    "    output = posterior_model(train_x)\n",
    "    loss = -posterior_model.marginal_log_likelihood(output, train_y)\n",
    "    loss.backward()\n",
    "    optimizer.n_iter += 1\n",
    "    print('Iter %d/30 - Loss: %.3f' % (i + 1, loss.data[0]))\n",
    "    optimizer.step()\n",
    "\n",
    "_ = posterior_model.eval()"
   ]
  },
  {
   "cell_type": "code",
   "execution_count": 7,
   "metadata": {},
   "outputs": [
    {
     "data": {
      "image/png": "[encoded data removed]",
      "text/plain": [
       "<matplotlib.figure.Figure at 0x7f86b436d890>"
      ]
     },
     "metadata": {},
     "output_type": "display_data"
    }
   ],
   "source": [
    "f = plot_model_and_predictions(posterior_model, plot_train_data=True)"
   ]
  },
  {
   "cell_type": "code",
   "execution_count": null,
   "metadata": {
    "collapsed": true
   },
   "outputs": [],
   "source": []
  }
 ],
 "metadata": {
  "kernelspec": {
   "display_name": "Python 2",
   "language": "python",
   "name": "python2"
  },
  "language_info": {
   "codemirror_mode": {
    "name": "ipython",
    "version": 2
   },
   "file_extension": ".py",
   "mimetype": "text/x-python",
   "name": "python",
   "nbconvert_exporter": "python",
   "pygments_lexer": "ipython2",
   "version": "2.7.13"
  }
 },
 "nbformat": 4,
 "nbformat_minor": 2
}
